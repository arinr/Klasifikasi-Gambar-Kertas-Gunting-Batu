{
 "cells": [
  {
   "cell_type": "markdown",
   "metadata": {
    "id": "gsPONoPMl8VV"
   },
   "source": [
    "**Mengimport Library**"
   ]
  },
  {
   "cell_type": "code",
   "execution_count": 1,
   "metadata": {
    "id": "6_1XOCtk3Lef"
   },
   "outputs": [],
   "source": [
    "# Library untuk megekstrak dan mengatur lokasi \n",
    "import zipfile\n",
    "import os\n",
    "\n",
    "# Library untuk machine learning Tensorflow\n",
    "import tensorflow as tf\n",
    "from tensorflow.keras.preprocessing.image import ImageDataGenerator\n",
    "from tensorflow.keras.models import Sequential\n",
    "from tensorflow.keras.layers import Conv2D, MaxPooling2D, Activation, Dense, Flatten\n",
    "from tensorflow.keras.layers import Dropout\n",
    "\n",
    "# Library uuntuk  upload file Google Colabs dan plot\n",
    "from keras.preprocessing import image\n",
    "from google.colab import files\n",
    "import numpy as np\n",
    "import matplotlib.pyplot as plt\n",
    "import matplotlib.image as mpimg\n",
    "%matplotlib inline"
   ]
  },
  {
   "cell_type": "markdown",
   "metadata": {
    "id": "3xMqy7a0mWuo"
   },
   "source": [
    "**Mengunduh dan Mengesktrak Dataset Rock Paper Scissors**"
   ]
  },
  {
   "cell_type": "code",
   "execution_count": 2,
   "metadata": {
    "colab": {
     "base_uri": "https://localhost:8080/"
    },
    "id": "osB_sXCL4y0Y",
    "outputId": "939e89c5-c47d-4de1-81ab-6119e4531ae1"
   },
   "outputs": [
    {
     "name": "stdout",
     "output_type": "stream",
     "text": [
      "--2021-07-14 00:17:49--  https://dicodingacademy.blob.core.windows.net/picodiploma/ml_pemula_academy/rockpaperscissors.zip\n",
      "Resolving dicodingacademy.blob.core.windows.net (dicodingacademy.blob.core.windows.net)... 52.239.197.36\n",
      "Connecting to dicodingacademy.blob.core.windows.net (dicodingacademy.blob.core.windows.net)|52.239.197.36|:443... connected.\n",
      "HTTP request sent, awaiting response... 200 OK\n",
      "Length: 322873683 (308M) [application/zip]\n",
      "Saving to: ‘/tmp/rockpaperscissors.zip’\n",
      "\n",
      "/tmp/rockpapersciss 100%[===================>] 307.92M  10.1MB/s    in 52s     \n",
      "\n",
      "2021-07-14 00:18:42 (5.87 MB/s) - ‘/tmp/rockpaperscissors.zip’ saved [322873683/322873683]\n",
      "\n"
     ]
    }
   ],
   "source": [
    "# Mengunduh dataset batu, gunting, kertas atau rockpapersiccors\n",
    "!wget --no-check-certificate \\\n",
    "  https://dicodingacademy.blob.core.windows.net/picodiploma/ml_pemula_academy/rockpaperscissors.zip \\\n",
    "  -O /tmp/rockpaperscissors.zip"
   ]
  },
  {
   "cell_type": "code",
   "execution_count": 3,
   "metadata": {
    "id": "aQFELEY65HFt"
   },
   "outputs": [],
   "source": [
    "# Melakukan ekstraksi pada file zip\n",
    "import zipfile,os\n",
    "locals_zip = '/tmp/rockpaperscissors.zip'\n",
    "ref_zip = zipfile.ZipFile(locals_zip, 'r')\n",
    "ref_zip.extractall('/tmp')\n",
    "ref_zip.close()"
   ]
  },
  {
   "cell_type": "markdown",
   "metadata": {
    "id": "1hn9lF7_mygA"
   },
   "source": [
    "**Mengatur Lokasi data Mengetahui informasi dari data yang akan digunakan**"
   ]
  },
  {
   "cell_type": "code",
   "execution_count": 4,
   "metadata": {
    "id": "cztLZD5o6LSr"
   },
   "outputs": [],
   "source": [
    "# Mendefinisikan nama direktori\n",
    "base_direktori = '/tmp/rockpaperscissors/rps-cv-images'\n",
    "paper_dir = os.path.join(\"/tmp/rockpaperscissors/rps-cv-images/paper\")\n",
    "rock_dir = os.path.join(\"/tmp/rockpaperscissors/rps-cv-images/rock\")\n",
    "scissors_dir = os.path.join(\"/tmp/rockpaperscissors/rps-cv-images/scissors\")"
   ]
  },
  {
   "cell_type": "code",
   "execution_count": 5,
   "metadata": {
    "colab": {
     "base_uri": "https://localhost:8080/"
    },
    "id": "XUe-hHaU6j9w",
    "outputId": "4abf4402-f566-415f-c6c9-d770a7c6acfc"
   },
   "outputs": [
    {
     "name": "stdout",
     "output_type": "stream",
     "text": [
      "Jumlah Data Paper Image    : 712\n",
      "Jumlah Data Rock Image     : 726\n",
      "Jumlah Data Scissors Image : 750\n"
     ]
    }
   ],
   "source": [
    "# Mengetahui jumlah data pada masing-masing sub-direktori\n",
    "os.listdir(base_direktori)\n",
    "jumlah_paper = len(os.listdir(paper_dir))\n",
    "jumlah_rock = len(os.listdir(rock_dir))\n",
    "jumlah_scissors = len(os.listdir(scissors_dir))\n",
    "\n",
    "# Mencetak jumlah data pada masing-masing sub-direktori\n",
    "print(\"Jumlah Data Paper Image    :\",jumlah_paper)\n",
    "print(\"Jumlah Data Rock Image     :\",jumlah_rock)\n",
    "print(\"Jumlah Data Scissors Image :\",jumlah_scissors)"
   ]
  },
  {
   "cell_type": "markdown",
   "metadata": {
    "id": "Y2b-yyTeEv9M"
   },
   "source": [
    "**Data Preprocessing**"
   ]
  },
  {
   "cell_type": "code",
   "execution_count": 6,
   "metadata": {
    "id": "59loB-eNFONR"
   },
   "outputs": [],
   "source": [
    "# Membuat sebuah objek ImageDataGenerator untuk data training dan data validation.\n",
    "# Ukuran data validiation yang digunakan 40% dari dataset\n",
    "val = 0.2\n",
    "\n",
    "datagen_train = ImageDataGenerator(\n",
    "    zoom_range = 0.25,\n",
    "    shear_range = 0.25,\n",
    "    width_shift_range=0.2,\n",
    "    height_shift_range=0.2,\n",
    "    fill_mode = \"reflect\",\n",
    "    horizontal_flip = True,\n",
    "    rotation_range = 40,\n",
    "    rescale = 1./255,\n",
    "    validation_split = val\n",
    ")\n",
    "\n",
    "datagen_validation = ImageDataGenerator(\n",
    "    zoom_range = 0.25,\n",
    "    shear_range = 0.25,\n",
    "    width_shift_range=0.2,\n",
    "    height_shift_range=0.2,\n",
    "    fill_mode = \"reflect\",\n",
    "    horizontal_flip = True,\n",
    "    rotation_range = 40,\n",
    "    rescale = 1./255,\n",
    "    validation_split = val\n",
    ")"
   ]
  },
  {
   "cell_type": "code",
   "execution_count": 7,
   "metadata": {
    "colab": {
     "base_uri": "https://localhost:8080/"
    },
    "id": "A-AgaRMXGzgP",
    "outputId": "e948e8bd-d401-4653-a63a-c992e30bb8ed"
   },
   "outputs": [
    {
     "name": "stdout",
     "output_type": "stream",
     "text": [
      "Found 1751 images belonging to 3 classes.\n",
      "Found 437 images belonging to 3 classes.\n"
     ]
    }
   ],
   "source": [
    "# Menggunakan objek image data generator sebelumnya \n",
    "# untuk mempersiapkan data latih yang akan dipelajari oleh model\n",
    "\n",
    "# Mengatur resolusi seluruh gambar menjadi 100x170 piksel\n",
    "img_width = 150\n",
    "img_height = 150\n",
    "batch_size = 128\n",
    "\n",
    "# Karena ini merupakan masalah klasifikasi 3 kelas maka menggunakan class_mode = 'categorical'\n",
    "gen_train = datagen_train.flow_from_directory(\n",
    "    base_direktori,\n",
    "    target_size = (img_width, img_height),\n",
    "    class_mode = \"categorical\",\n",
    "    batch_size = batch_size,\n",
    "    subset = \"training\"\n",
    ")\n",
    "\n",
    "gen_validation = datagen_validation.flow_from_directory(\n",
    "    base_direktori,\n",
    "    target_size = (img_width, img_height),\n",
    "    class_mode = \"categorical\",\n",
    "    batch_size = batch_size,\n",
    "    subset = \"validation\"\n",
    ")"
   ]
  },
  {
   "cell_type": "markdown",
   "metadata": {
    "id": "eYs18dRDlgUu"
   },
   "source": [
    "**Membangun Arsitektur CNN**"
   ]
  },
  {
   "cell_type": "code",
   "execution_count": 8,
   "metadata": {
    "id": "DQ9wiIO4lsAi"
   },
   "outputs": [],
   "source": [
    "model = tf.keras.models.Sequential([\n",
    "        tf.keras.layers.Conv2D(32, (3,3), activation = 'relu',input_shape = (img_width, img_height, 3)),\n",
    "        tf.keras.layers.MaxPooling2D(2,2),\n",
    "        tf.keras.layers.Conv2D(64, (3,3), activation = 'relu'),\n",
    "        tf.keras.layers.MaxPooling2D(2,2),\n",
    "        tf.keras.layers.Conv2D(128, (3,3), activation = 'relu'),\n",
    "        tf.keras.layers.MaxPooling2D(2,2),\n",
    "        tf.keras.layers.Conv2D(256, (3,3), activation = 'relu'),\n",
    "        tf.keras.layers.MaxPooling2D(2,2),\n",
    "        tf.keras.layers.Flatten(),\n",
    "        tf.keras.layers.Dropout(0.5),\n",
    "        tf.keras.layers.Dense(units = 512, activation = 'relu'),\n",
    "        tf.keras.layers.Dense(units = 3, activation = 'softmax')\n",
    "])"
   ]
  },
  {
   "cell_type": "markdown",
   "metadata": {
    "id": "Y2dF5wM7wEyl"
   },
   "source": [
    "**Memanggil fungsi compile pada objek model, dan menentukan loss function serta optimizer.**"
   ]
  },
  {
   "cell_type": "code",
   "execution_count": 9,
   "metadata": {
    "colab": {
     "base_uri": "https://localhost:8080/"
    },
    "id": "u6yAKebmwLk0",
    "outputId": "fcd91d71-12b1-43ca-e1b1-503889b8dc96"
   },
   "outputs": [
    {
     "name": "stdout",
     "output_type": "stream",
     "text": [
      "Model: \"sequential\"\n",
      "_________________________________________________________________\n",
      "Layer (type)                 Output Shape              Param #   \n",
      "=================================================================\n",
      "conv2d (Conv2D)              (None, 148, 148, 32)      896       \n",
      "_________________________________________________________________\n",
      "max_pooling2d (MaxPooling2D) (None, 74, 74, 32)        0         \n",
      "_________________________________________________________________\n",
      "conv2d_1 (Conv2D)            (None, 72, 72, 64)        18496     \n",
      "_________________________________________________________________\n",
      "max_pooling2d_1 (MaxPooling2 (None, 36, 36, 64)        0         \n",
      "_________________________________________________________________\n",
      "conv2d_2 (Conv2D)            (None, 34, 34, 128)       73856     \n",
      "_________________________________________________________________\n",
      "max_pooling2d_2 (MaxPooling2 (None, 17, 17, 128)       0         \n",
      "_________________________________________________________________\n",
      "conv2d_3 (Conv2D)            (None, 15, 15, 256)       295168    \n",
      "_________________________________________________________________\n",
      "max_pooling2d_3 (MaxPooling2 (None, 7, 7, 256)         0         \n",
      "_________________________________________________________________\n",
      "flatten (Flatten)            (None, 12544)             0         \n",
      "_________________________________________________________________\n",
      "dropout (Dropout)            (None, 12544)             0         \n",
      "_________________________________________________________________\n",
      "dense (Dense)                (None, 512)               6423040   \n",
      "_________________________________________________________________\n",
      "dense_1 (Dense)              (None, 3)                 1539      \n",
      "=================================================================\n",
      "Total params: 6,812,995\n",
      "Trainable params: 6,812,995\n",
      "Non-trainable params: 0\n",
      "_________________________________________________________________\n"
     ]
    }
   ],
   "source": [
    "model.compile(optimizer='adam',\n",
    "              loss='categorical_crossentropy',\n",
    "              metrics = ['accuracy'])\n",
    "\n",
    "model.summary()"
   ]
  },
  {
   "cell_type": "markdown",
   "metadata": {
    "id": "jVKx2-JxyVHI"
   },
   "source": [
    "**Proses Training Dataset menggunakan Callbacks**"
   ]
  },
  {
   "cell_type": "code",
   "execution_count": 10,
   "metadata": {
    "colab": {
     "base_uri": "https://localhost:8080/"
    },
    "id": "afTmIZxH0KKz",
    "outputId": "cc460494-5f3e-4178-9f6b-754efbaba0d0"
   },
   "outputs": [
    {
     "name": "stderr",
     "output_type": "stream",
     "text": [
      "/usr/local/lib/python3.7/dist-packages/tensorflow/python/keras/engine/training.py:1940: UserWarning: `Model.fit_generator` is deprecated and will be removed in a future version. Please use `Model.fit`, which supports generators.\n",
      "  warnings.warn('`Model.fit_generator` is deprecated and '\n"
     ]
    },
    {
     "name": "stdout",
     "output_type": "stream",
     "text": [
      "Epoch 1/50\n",
      "13/13 [==============================] - 103s 8s/step - loss: 1.1175 - accuracy: 0.3611 - val_loss: 1.0461 - val_accuracy: 0.5417\n",
      "Epoch 2/50\n",
      "13/13 [==============================] - 99s 8s/step - loss: 1.0265 - accuracy: 0.4713 - val_loss: 0.9434 - val_accuracy: 0.5208\n",
      "Epoch 3/50\n",
      "13/13 [==============================] - 100s 8s/step - loss: 0.8630 - accuracy: 0.6112 - val_loss: 0.8008 - val_accuracy: 0.6719\n",
      "Epoch 4/50\n",
      "13/13 [==============================] - 102s 8s/step - loss: 0.6234 - accuracy: 0.7517 - val_loss: 0.5072 - val_accuracy: 0.7969\n",
      "Epoch 5/50\n",
      "13/13 [==============================] - 101s 8s/step - loss: 0.5020 - accuracy: 0.8065 - val_loss: 0.4321 - val_accuracy: 0.8359\n",
      "Epoch 6/50\n",
      "13/13 [==============================] - 100s 8s/step - loss: 0.4310 - accuracy: 0.8367 - val_loss: 0.3498 - val_accuracy: 0.8880\n",
      "Epoch 7/50\n",
      "13/13 [==============================] - 101s 8s/step - loss: 0.2998 - accuracy: 0.8842 - val_loss: 0.2194 - val_accuracy: 0.9375\n",
      "\n",
      "Accuracy above 86%, finish training model!\n"
     ]
    }
   ],
   "source": [
    "class myCallback(tf.keras.callbacks.Callback):\n",
    "  def on_epoch_end(self, epoch, logs={}):\n",
    "    if(logs.get('accuracy')>0.86 and logs.get('val_accuracy')>0.86):\n",
    "      print(\"\\nAccuracy above 86%, finish training model!\")\n",
    "      self.model.stop_training = True\n",
    "\n",
    "callbacks = myCallback()\n",
    "\n",
    "myhistory = model.fit_generator(\n",
    "    gen_train,\n",
    "    steps_per_epoch = gen_train.samples // batch_size,\n",
    "    validation_steps = gen_validation.samples // batch_size,\n",
    "    epochs = 50,\n",
    "    verbose = 1,\n",
    "    validation_data = gen_validation,\n",
    "    callbacks = [callbacks]\n",
    ")"
   ]
  },
  {
   "cell_type": "code",
   "execution_count": 11,
   "metadata": {
    "colab": {
     "base_uri": "https://localhost:8080/",
     "height": 295
    },
    "id": "bGKSLfjeWug2",
    "outputId": "c697d5f1-2fda-4132-91b4-4b0decd2ca83"
   },
   "outputs": [
    {
     "data": {
      "image/png": "[encoded data removed]",
      "text/plain": [
       "<Figure size 432x288 with 1 Axes>"
      ]
     },
     "metadata": {
      "needs_background": "light",
      "tags": []
     },
     "output_type": "display_data"
    }
   ],
   "source": [
    "plt.plot(myhistory.history['accuracy'])\n",
    "plt.plot(myhistory.history['val_accuracy'])\n",
    "plt.title('Accuracy')\n",
    "plt.ylabel('accuracy')\n",
    "plt.xlabel('epoch')\n",
    "plt.legend(['train', 'val'], loc = 'upper left')\n",
    "plt.show()"
   ]
  },
  {
   "cell_type": "code",
   "execution_count": 12,
   "metadata": {
    "colab": {
     "base_uri": "https://localhost:8080/",
     "height": 522
    },
    "id": "ldk6k6LiWwfM",
    "outputId": "e14b5c87-4bc6-4715-d22f-5d4d209cdb58"
   },
   "outputs": [
    {
     "name": "stderr",
     "output_type": "stream",
     "text": [
      "/usr/local/lib/python3.7/dist-packages/ipykernel_launcher.py:6: MatplotlibDeprecationWarning: Unrecognized location 'right left'. Falling back on 'best'; valid locations are\n",
      "\tbest\n",
      "\tupper right\n",
      "\tupper left\n",
      "\tlower left\n",
      "\tlower right\n",
      "\tright\n",
      "\tcenter left\n",
      "\tcenter right\n",
      "\tlower center\n",
      "\tupper center\n",
      "\tcenter\n",
      "This will raise an exception in 3.3.\n",
      "  \n"
     ]
    },
    {
     "data": {
      "image/png": "[encoded data removed]",
      "text/plain": [
       "<Figure size 432x288 with 1 Axes>"
      ]
     },
     "metadata": {
      "needs_background": "light",
      "tags": []
     },
     "output_type": "display_data"
    }
   ],
   "source": [
    "plt.plot(myhistory.history['loss'])\n",
    "plt.plot(myhistory.history['val_loss'])\n",
    "plt.title('Loss')\n",
    "plt.ylabel('loss')\n",
    "plt.xlabel('epoch')\n",
    "plt.legend(['train', 'val'], loc = 'right left')\n",
    "plt.show()"
   ]
  },
  {
   "cell_type": "code",
   "execution_count": 13,
   "metadata": {
    "colab": {
     "base_uri": "https://localhost:8080/"
    },
    "id": "yqRpcD9vW1B9",
    "outputId": "533a9f49-cff0-45fb-d944-a05f3898c67c"
   },
   "outputs": [
    {
     "name": "stdout",
     "output_type": "stream",
     "text": [
      "INFO:tensorflow:Assets written to: /tmp/tmprzlffixn/assets\n"
     ]
    }
   ],
   "source": [
    "converter = tf.lite.TFLiteConverter.from_keras_model(model)\n",
    "tflite_model = converter.convert()\n",
    "\n",
    "with tf.io.gfile.GFile('model.tflite', 'wb') as f:\n",
    "  f.write(tflite_model)"
   ]
  },
  {
   "cell_type": "code",
   "execution_count": 14,
   "metadata": {
    "colab": {
     "base_uri": "https://localhost:8080/"
    },
    "id": "EAIa4RAMW3Jq",
    "outputId": "25685310-0296-4585-d8db-1366b3df8825"
   },
   "outputs": [
    {
     "name": "stdout",
     "output_type": "stream",
     "text": [
      "-rw-r--r-- 1 root root 27256604 Jul 14 00:33 model.tflite\n"
     ]
    }
   ],
   "source": [
    "!ls -la | grep 'model'"
   ]
  }
 ],
 "metadata": {
  "colab": {
   "collapsed_sections": [],
   "name": " Submission 3_Arini_Ratnasari.ipynb",
   "provenance": []
  },
  "kernelspec": {
   "display_name": "Python 3",
   "language": "python",
   "name": "python3"
  },
  "language_info": {
   "codemirror_mode": {
    "name": "ipython",
    "version": 3
   },
   "file_extension": ".py",
   "mimetype": "text/x-python",
   "name": "python",
   "nbconvert_exporter": "python",
   "pygments_lexer": "ipython3",
   "version": "3.7.4"
  }
 },
 "nbformat": 4,
 "nbformat_minor": 1
}
